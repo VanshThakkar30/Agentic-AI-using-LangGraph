{
 "cells": [
  {
   "cell_type": "code",
   "execution_count": 1,
   "id": "03677aaa",
   "metadata": {},
   "outputs": [],
   "source": [
    "from typing import TypedDict,Annotated\n",
    "from langgraph.graph import StateGraph,START,END\n",
    "from langgraph.graph.message import add_messages\n",
    "# for tool nodes\n",
    "from langgraph.prebuilt import ToolNode\n",
    "from langgraph.prebuilt import tools_condition "
   ]
  },
  {
   "cell_type": "code",
   "execution_count": 2,
   "id": "3dfb2ab1",
   "metadata": {},
   "outputs": [],
   "source": [
    "class State(TypedDict):\n",
    "    messages: Annotated[list,add_messages]\n"
   ]
  },
  {
   "cell_type": "code",
   "execution_count": 3,
   "id": "4257251a",
   "metadata": {},
   "outputs": [
    {
     "data": {
      "text/plain": [
       "True"
      ]
     },
     "execution_count": 3,
     "metadata": {},
     "output_type": "execute_result"
    }
   ],
   "source": [
    "from dotenv import load_dotenv\n",
    "load_dotenv()"
   ]
  },
  {
   "cell_type": "code",
   "execution_count": 4,
   "id": "abbacadd",
   "metadata": {},
   "outputs": [
    {
     "name": "stderr",
     "output_type": "stream",
     "text": [
      "c:\\Users\\vansh\\OneDrive\\Desktop\\Agentic-AI-using-LangGraph\\.venv\\Lib\\site-packages\\tqdm\\auto.py:21: TqdmWarning: IProgress not found. Please update jupyter and ipywidgets. See https://ipywidgets.readthedocs.io/en/stable/user_install.html\n",
      "  from .autonotebook import tqdm as notebook_tqdm\n"
     ]
    }
   ],
   "source": [
    "from langchain_google_genai import ChatGoogleGenerativeAI\n",
    "\n",
    "llm = ChatGoogleGenerativeAI(model=\"gemini-2.0-flash\")"
   ]
  },
  {
   "cell_type": "markdown",
   "id": "e5dde7c7",
   "metadata": {},
   "source": [
    "Chatbot With Tool"
   ]
  },
  {
   "cell_type": "code",
   "execution_count": 5,
   "id": "9adc2360",
   "metadata": {},
   "outputs": [
    {
     "data": {
      "text/plain": [
       "{'query': 'What is latest news about AI?',\n",
       " 'follow_up_questions': None,\n",
       " 'answer': None,\n",
       " 'images': [],\n",
       " 'results': [{'title': 'AI News & Artificial Intelligence | TechCrunch',\n",
       "   'url': 'https://techcrunch.com/category/artificial-intelligence/',\n",
       "   'content': 'Read the latest on artificial intelligence and machine learning tech, the companies that are building them, and the ethical issues AI raises today.',\n",
       "   'score': 0.67243975,\n",
       "   'raw_content': None},\n",
       "  {'title': 'Artificial Intelligence News -- ScienceDaily',\n",
       "   'url': 'https://www.sciencedaily.com/news/computers_math/artificial_intelligence/',\n",
       "   'content': 'Artificial Intelligence News. Everything on AI including futuristic robots with artificial intelligence, computer models of human intelligence and more.',\n",
       "   'score': 0.6530611,\n",
       "   'raw_content': None}],\n",
       " 'response_time': 1.59}"
      ]
     },
     "execution_count": 5,
     "metadata": {},
     "output_type": "execute_result"
    }
   ],
   "source": [
    "from langchain_tavily import TavilySearch\n",
    "\n",
    "tool=TavilySearch(max_results=2)\n",
    "tool.invoke(\"What is latest news about AI?\")"
   ]
  },
  {
   "cell_type": "code",
   "execution_count": 6,
   "id": "212a7830",
   "metadata": {},
   "outputs": [],
   "source": [
    "def multiply(a: int, b: int) -> int:\n",
    "    \"\"\"Multiplies two integers.\n",
    "    \n",
    "    args:\n",
    "        a (int): The first integer.\n",
    "        b (int): The second integer.\n",
    "    returns:\n",
    "        int: The product of the two integers.\n",
    "        \n",
    "    \"\"\"\n",
    "    return a * b"
   ]
  },
  {
   "cell_type": "code",
   "execution_count": 7,
   "id": "d5c07aa3",
   "metadata": {},
   "outputs": [],
   "source": [
    "tools = [tool, multiply]"
   ]
  },
  {
   "cell_type": "code",
   "execution_count": 8,
   "id": "971c940b",
   "metadata": {},
   "outputs": [],
   "source": [
    "llm_with_tool=llm.bind_tools(tools)"
   ]
  },
  {
   "cell_type": "code",
   "execution_count": 9,
   "id": "b04862ad",
   "metadata": {},
   "outputs": [],
   "source": [
    "\n",
    "def tool_calling_llm(state: State):\n",
    "    return {\"messages\":[llm_with_tool.invoke(state[\"messages\"])]}\n",
    "\n",
    "builder = StateGraph(State)\n",
    "\n",
    "builder.add_node(\"tool_calling_llm\",tool_calling_llm,)\n",
    "builder.add_node(\"tools\", ToolNode(tools)) \n",
    "\n",
    "builder.add_edge(START, \"tool_calling_llm\")\n",
    "builder.add_conditional_edges(\n",
    "    \"tool_calling_llm\",\n",
    "    tools_condition\n",
    ")\n",
    "builder.add_edge(\"tools\", END)\n",
    "\n",
    "graph = builder.compile()"
   ]
  },
  {
   "cell_type": "code",
   "execution_count": 10,
   "id": "ce6fea7a",
   "metadata": {},
   "outputs": [
    {
     "data": {
      "image/png": "[encoded data removed]",
      "text/plain": [
       "<IPython.core.display.Image object>"
      ]
     },
     "metadata": {},
     "output_type": "display_data"
    }
   ],
   "source": [
    "from IPython.display import Image, display\n",
    "display(Image(graph.get_graph().draw_mermaid_png()))"
   ]
  },
  {
   "cell_type": "code",
   "execution_count": 13,
   "id": "7bb89d30",
   "metadata": {},
   "outputs": [],
   "source": [
    "response = graph.invoke({\"messages\": [\"hey what is the latest AI news?\"]})\n"
   ]
  },
  {
   "cell_type": "markdown",
   "id": "d2716e11",
   "metadata": {},
   "source": [
    "The prompt given below shows if we do tool call with multiple task min it it will take limited amount of task and as per our structure of graph it will end with out completing whole prompt so we have to solve this problem "
   ]
  },
  {
   "cell_type": "code",
   "execution_count": 21,
   "id": "2754aa87",
   "metadata": {},
   "outputs": [
    {
     "name": "stdout",
     "output_type": "stream",
     "text": [
      "================================\u001b[1m Human Message \u001b[0m=================================\n",
      "\n",
      "What is 2 * 3? then search for latest AI newsnd then multiply ans of first question with 0.5\n",
      "==================================\u001b[1m Ai Message \u001b[0m==================================\n",
      "Tool Calls:\n",
      "  multiply (b0c9b9c8-8bf2-4de5-9009-3261811198ee)\n",
      " Call ID: b0c9b9c8-8bf2-4de5-9009-3261811198ee\n",
      "  Args:\n",
      "    a: 2.0\n",
      "    b: 3.0\n",
      "  tavily_search (2bb1941e-9095-491a-97c5-e8a9698f19f0)\n",
      " Call ID: 2bb1941e-9095-491a-97c5-e8a9698f19f0\n",
      "  Args:\n",
      "    query: latest AI news\n",
      "    topic: general\n",
      "=================================\u001b[1m Tool Message \u001b[0m=================================\n",
      "Name: multiply\n",
      "\n",
      "6\n",
      "=================================\u001b[1m Tool Message \u001b[0m=================================\n",
      "Name: tavily_search\n",
      "\n",
      "{\"query\": \"latest AI news\", \"follow_up_questions\": null, \"answer\": null, \"images\": [], \"results\": [{\"title\": \"AI News | Latest AI News, Analysis & Events\", \"url\": \"https://www.artificialintelligence-news.com/\", \"content\": \"AI News reports on the latest artificial intelligence news and insights. Explore industry trends from the frontline of AI.\", \"score\": 0.82220376, \"raw_content\": null}, {\"title\": \"AI News & Artificial Intelligence | TechCrunch\", \"url\": \"https://techcrunch.com/category/artificial-intelligence/\", \"content\": \"Read the latest on artificial intelligence and machine learning tech, the companies that are building them, and the ethical issues AI raises today.\", \"score\": 0.6768127, \"raw_content\": null}], \"response_time\": 1.72}\n"
     ]
    }
   ],
   "source": [
    "response = graph.invoke({\"messages\": [\"What is 2 * 3? then search for latest AI newsnd then multiply ans of first question with 0.5\"]})\n",
    "for m in response[\"messages\"]:\n",
    "    m.pretty_print()\n",
    "    "
   ]
  },
  {
   "cell_type": "markdown",
   "id": "93ec686a",
   "metadata": {},
   "source": [
    "ReAct Agent Architecture"
   ]
  },
  {
   "cell_type": "code",
   "execution_count": 23,
   "id": "25008920",
   "metadata": {},
   "outputs": [],
   "source": [
    "def tool_calling_llm(state: State):\n",
    "    return {\"messages\":[llm_with_tool.invoke(state[\"messages\"])]}\n",
    "\n",
    "builder = StateGraph(State)\n",
    "\n",
    "builder.add_node(\"tool_calling_llm\",tool_calling_llm,)\n",
    "builder.add_node(\"tools\", ToolNode(tools)) \n",
    "\n",
    "builder.add_edge(START, \"tool_calling_llm\")\n",
    "builder.add_conditional_edges(\n",
    "    \"tool_calling_llm\",\n",
    "    tools_condition\n",
    ")\n",
    "builder.add_edge(\"tools\", \"tool_calling_llm\")\n",
    "\n",
    "graph = builder.compile()"
   ]
  },
  {
   "cell_type": "markdown",
   "id": "1059546b",
   "metadata": {},
   "source": [
    "now this is the solution every time tool give output it will check by llm that whole prompt is answerd or not so by this way we can solve previous problem using ReAct Agents \n",
    "\n",
    "ReAct => Act -> observe -> reason"
   ]
  },
  {
   "cell_type": "code",
   "execution_count": 24,
   "id": "b5f85789",
   "metadata": {},
   "outputs": [
    {
     "data": {
      "image/png": "[encoded data removed]",
      "text/plain": [
       "<IPython.core.display.Image object>"
      ]
     },
     "metadata": {},
     "output_type": "display_data"
    }
   ],
   "source": [
    "from IPython.display import Image, display\n",
    "display(Image(graph.get_graph().draw_mermaid_png()))"
   ]
  },
  {
   "cell_type": "code",
   "execution_count": 25,
   "id": "99e7a125",
   "metadata": {},
   "outputs": [
    {
     "name": "stdout",
     "output_type": "stream",
     "text": [
      "================================\u001b[1m Human Message \u001b[0m=================================\n",
      "\n",
      "What is 2 * 3? then search for latest AI newsnd then multiply ans of first question with 0.5\n",
      "==================================\u001b[1m Ai Message \u001b[0m==================================\n",
      "Tool Calls:\n",
      "  multiply (002d6cc1-a17d-48ae-b1f4-9f0be9fada41)\n",
      " Call ID: 002d6cc1-a17d-48ae-b1f4-9f0be9fada41\n",
      "  Args:\n",
      "    a: 2.0\n",
      "    b: 3.0\n",
      "  tavily_search (a60bd65e-60b9-4662-943e-6acb5bf0af9c)\n",
      " Call ID: a60bd65e-60b9-4662-943e-6acb5bf0af9c\n",
      "  Args:\n",
      "    query: latest AI news\n",
      "    topic: general\n",
      "=================================\u001b[1m Tool Message \u001b[0m=================================\n",
      "Name: multiply\n",
      "\n",
      "6\n",
      "=================================\u001b[1m Tool Message \u001b[0m=================================\n",
      "Name: tavily_search\n",
      "\n",
      "{\"query\": \"latest AI news\", \"follow_up_questions\": null, \"answer\": null, \"images\": [], \"results\": [{\"title\": \"AI News | Latest AI News, Analysis & Events\", \"url\": \"https://www.artificialintelligence-news.com/\", \"content\": \"AI News reports on the latest artificial intelligence news and insights. Explore industry trends from the frontline of AI.\", \"score\": 0.82220376, \"raw_content\": null}, {\"title\": \"AI News & Artificial Intelligence | TechCrunch\", \"url\": \"https://techcrunch.com/category/artificial-intelligence/\", \"content\": \"News coverage on artificial intelligence and machine learning tech, the companies building them, and the ethical issues AI raises today. This encompasses generative AI, including large language\", \"score\": 0.62523276, \"raw_content\": null}], \"response_time\": 1.84}\n",
      "==================================\u001b[1m Ai Message \u001b[0m==================================\n",
      "\n",
      "2 * 3 is 6. I have also searched for the latest AI news. Now, 6 multiplied by 0.5 is 3.\n"
     ]
    }
   ],
   "source": [
    "response = graph.invoke({\"messages\": [\"What is 2 * 3? then search for latest AI newsnd then multiply ans of first question with 0.5\"]})\n",
    "for m in response[\"messages\"]:\n",
    "    m.pretty_print()\n",
    "    "
   ]
  },
  {
   "cell_type": "code",
   "execution_count": null,
   "id": "4ad3a732",
   "metadata": {},
   "outputs": [],
   "source": []
  }
 ],
 "metadata": {
  "kernelspec": {
   "display_name": ".venv",
   "language": "python",
   "name": "python3"
  },
  "language_info": {
   "codemirror_mode": {
    "name": "ipython",
    "version": 3
   },
   "file_extension": ".py",
   "mimetype": "text/x-python",
   "name": "python",
   "nbconvert_exporter": "python",
   "pygments_lexer": "ipython3",
   "version": "3.13.0"
  }
 },
 "nbformat": 4,
 "nbformat_minor": 5
}
