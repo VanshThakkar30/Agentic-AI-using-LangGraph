{
 "cells": [
  {
   "cell_type": "markdown",
   "id": "5b29301e",
   "metadata": {},
   "source": [
    "Built A Basic Chatbot using LangGraph"
   ]
  },
  {
   "cell_type": "code",
   "execution_count": 1,
   "id": "e3f6490f",
   "metadata": {},
   "outputs": [],
   "source": [
    "from typing import TypedDict,Annotated\n",
    "from langgraph.graph import StateGraph,START,END\n",
    "from langgraph.graph.message import add_messages"
   ]
  },
  {
   "cell_type": "code",
   "execution_count": 7,
   "id": "3a95170e",
   "metadata": {},
   "outputs": [],
   "source": [
    "class State(TypedDict):\n",
    "    messages: Annotated[list,add_messages]\n"
   ]
  },
  {
   "cell_type": "code",
   "execution_count": 3,
   "id": "72c497bd",
   "metadata": {},
   "outputs": [
    {
     "data": {
      "text/plain": [
       "True"
      ]
     },
     "execution_count": 3,
     "metadata": {},
     "output_type": "execute_result"
    }
   ],
   "source": [
    "from dotenv import load_dotenv\n",
    "load_dotenv()"
   ]
  },
  {
   "cell_type": "code",
   "execution_count": 4,
   "id": "4850479f",
   "metadata": {},
   "outputs": [],
   "source": [
    "from langchain_google_genai import ChatGoogleGenerativeAI\n",
    "\n",
    "llm = ChatGoogleGenerativeAI(model=\"gemini-2.0-flash\")"
   ]
  },
  {
   "cell_type": "code",
   "execution_count": 15,
   "id": "16beceda",
   "metadata": {},
   "outputs": [],
   "source": [
    "def chatbot(state: State):\n",
    "    return {\"messages\": state[\"messages\"] + [llm.invoke(state[\"messages\"])]}"
   ]
  },
  {
   "cell_type": "code",
   "execution_count": null,
   "id": "74d99ee9",
   "metadata": {},
   "outputs": [],
   "source": [
    "graphBuilder = StateGraph(State)\n",
    "\n",
    "# Adding Nodes\n",
    "graphBuilder.add_node(\"nameChatbot\", chatbot)\n",
    "\n",
    "# Adding Edges\n",
    "graphBuilder.add_edge(START, \"nameChatbot\")\n",
    "graphBuilder.add_edge(\"nameChatbot\", END)\n",
    "\n",
    "# compile graph\n",
    "graph = graphBuilder.compile()"
   ]
  },
  {
   "cell_type": "code",
   "execution_count": 10,
   "id": "787bc7c2",
   "metadata": {},
   "outputs": [
    {
     "data": {
      "image/png": "[encoded data removed]",
      "text/plain": [
       "<IPython.core.display.Image object>"
      ]
     },
     "metadata": {},
     "output_type": "display_data"
    }
   ],
   "source": [
    "# visulaize graph\n",
    "from IPython.display import display,Image\n",
    "\n",
    "try:\n",
    "    display(Image(graph.get_graph().draw_mermaid_png()))\n",
    "except Exception:\n",
    "    pass\n"
   ]
  },
  {
   "cell_type": "code",
   "execution_count": 17,
   "id": "9befb766",
   "metadata": {},
   "outputs": [
    {
     "name": "stdout",
     "output_type": "stream",
     "text": [
      "[HumanMessage(content='Hi', additional_kwargs={}, response_metadata={}, id='952f5ce4-8932-4ad8-b80f-25a505dd6b5c'), AIMessage(content='Hi there! How can I help you today?', additional_kwargs={}, response_metadata={'prompt_feedback': {'block_reason': 0, 'safety_ratings': []}, 'finish_reason': 'STOP', 'safety_ratings': []}, id='run--cd2776fd-754b-4bcd-81c8-42884793bb2a-0', usage_metadata={'input_tokens': 1, 'output_tokens': 11, 'total_tokens': 12, 'input_token_details': {'cache_read': 0}})]\n"
     ]
    }
   ],
   "source": [
    "response = graph.invoke({\"messages\":[\"Hi\"]})\n",
    "print(response[\"messages\"])"
   ]
  },
  {
   "cell_type": "code",
   "execution_count": 18,
   "id": "1a0ba2fd",
   "metadata": {},
   "outputs": [
    {
     "data": {
      "text/plain": [
       "'Hi there! How can I help you today?'"
      ]
     },
     "execution_count": 18,
     "metadata": {},
     "output_type": "execute_result"
    }
   ],
   "source": [
    "response[\"messages\"][-1].content"
   ]
  },
  {
   "cell_type": "code",
   "execution_count": 21,
   "id": "61b9724b",
   "metadata": {},
   "outputs": [
    {
     "name": "stdout",
     "output_type": "stream",
     "text": [
      "I am doing well, thank you for asking! How are you today?\n"
     ]
    }
   ],
   "source": [
    "for events in graph.stream({\"messages\":[\"Hi, How are you?\"]}):\n",
    "    for value in events.values():\n",
    "        print(value[\"messages\"][-1].content)"
   ]
  },
  {
   "cell_type": "code",
   "execution_count": null,
   "id": "d7c445df",
   "metadata": {},
   "outputs": [],
   "source": []
  }
 ],
 "metadata": {
  "kernelspec": {
   "display_name": ".venv",
   "language": "python",
   "name": "python3"
  },
  "language_info": {
   "codemirror_mode": {
    "name": "ipython",
    "version": 3
   },
   "file_extension": ".py",
   "mimetype": "text/x-python",
   "name": "python",
   "nbconvert_exporter": "python",
   "pygments_lexer": "ipython3",
   "version": "3.13.0"
  }
 },
 "nbformat": 4,
 "nbformat_minor": 5
}
